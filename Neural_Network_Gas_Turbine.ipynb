{
  "cells": [
    {
      "cell_type": "markdown",
      "metadata": {
        "id": "view-in-github",
        "colab_type": "text"
      },
      "source": [
        "<a href=\"https://colab.research.google.com/github/mayankdeshmukh/Data-Science-and-Machine-Learning/blob/main/Neural_Network_Gas_Turbine.ipynb\" target=\"_parent\"><img src=\"https://colab.research.google.com/assets/colab-badge.svg\" alt=\"Open In Colab\"/></a>"
      ]
    },
    {
      "cell_type": "markdown",
      "source": [
        "#Neural Network - Gas Turbine"
      ],
      "metadata": {
        "id": "W-HERyhUqiaV"
      }
    },
    {
      "cell_type": "markdown",
      "source": [
        "###Problem Statement - Predicting Turbine Energy Yield (TEY) using ambient variables as features.\n"
      ],
      "metadata": {
        "id": "ZyM_DY_dqmYL"
      }
    },
    {
      "cell_type": "markdown",
      "metadata": {
        "id": "d6YmTCPbfsyl"
      },
      "source": [
        "##Importing Libraries"
      ]
    },
    {
      "cell_type": "code",
      "execution_count": 1,
      "metadata": {
        "id": "StD6cYj8fTHA"
      },
      "outputs": [],
      "source": [
        "import pandas as pd\n",
        "import numpy as np\n",
        "import matplotlib.pyplot as plt\n",
        "import seaborn as sns\n",
        "from keras.layers import Dense\n",
        "from keras.models import Sequential\n",
        "from keras.optimizers import Adam\n",
        "from sklearn.preprocessing import StandardScaler\n",
        "from keras.wrappers.scikit_learn import KerasClassifier\n",
        "from sklearn.model_selection import GridSearchCV, KFold"
      ]
    },
    {
      "cell_type": "markdown",
      "metadata": {
        "id": "WHIi2GVQf-G1"
      },
      "source": [
        "##Importing Dataset"
      ]
    },
    {
      "cell_type": "code",
      "execution_count": 2,
      "metadata": {
        "colab": {
          "base_uri": "https://localhost:8080/",
          "height": 424
        },
        "id": "UOFkZXSKf0T8",
        "outputId": "2ca11d07-5056-4267-8a71-023a94bc9e70"
      },
      "outputs": [
        {
          "output_type": "execute_result",
          "data": {
            "text/plain": [
              "           AT      AP      AH    AFDP    GTEP     TIT     TAT     TEY     CDP  \\\n",
              "0      6.8594  1007.9  96.799  3.5000  19.663  1059.2  550.00  114.70  10.605   \n",
              "1      6.7850  1008.4  97.118  3.4998  19.728  1059.3  550.00  114.72  10.598   \n",
              "2      6.8977  1008.8  95.939  3.4824  19.779  1059.4  549.87  114.71  10.601   \n",
              "3      7.0569  1009.2  95.249  3.4805  19.792  1059.6  549.99  114.72  10.606   \n",
              "4      7.3978  1009.7  95.150  3.4976  19.765  1059.7  549.98  114.72  10.612   \n",
              "...       ...     ...     ...     ...     ...     ...     ...     ...     ...   \n",
              "15034  9.0301  1005.6  98.460  3.5421  19.164  1049.7  546.21  111.61  10.400   \n",
              "15035  7.8879  1005.9  99.093  3.5059  19.414  1046.3  543.22  111.78  10.433   \n",
              "15036  7.2647  1006.3  99.496  3.4770  19.530  1037.7  537.32  110.19  10.483   \n",
              "15037  7.0060  1006.8  99.008  3.4486  19.377  1043.2  541.24  110.74  10.533   \n",
              "15038  6.9279  1007.2  97.533  3.4275  19.306  1049.9  545.85  111.58  10.583   \n",
              "\n",
              "           CO     NOX  \n",
              "0      3.1547  82.722  \n",
              "1      3.2363  82.776  \n",
              "2      3.2012  82.468  \n",
              "3      3.1923  82.670  \n",
              "4      3.2484  82.311  \n",
              "...       ...     ...  \n",
              "15034  4.5186  79.559  \n",
              "15035  4.8470  79.917  \n",
              "15036  7.9632  90.912  \n",
              "15037  6.2494  93.227  \n",
              "15038  4.9816  92.498  \n",
              "\n",
              "[15039 rows x 11 columns]"
            ],
            "text/html": [
              "\n",
              "\n",
              "  <div id=\"df-3033980c-6dfd-419b-a5b8-335fe78d573f\">\n",
              "    <div class=\"colab-df-container\">\n",
              "      <div>\n",
              "<style scoped>\n",
              "    .dataframe tbody tr th:only-of-type {\n",
              "        vertical-align: middle;\n",
              "    }\n",
              "\n",
              "    .dataframe tbody tr th {\n",
              "        vertical-align: top;\n",
              "    }\n",
              "\n",
              "    .dataframe thead th {\n",
              "        text-align: right;\n",
              "    }\n",
              "</style>\n",
              "<table border=\"1\" class=\"dataframe\">\n",
              "  <thead>\n",
              "    <tr style=\"text-align: right;\">\n",
              "      <th></th>\n",
              "      <th>AT</th>\n",
              "      <th>AP</th>\n",
              "      <th>AH</th>\n",
              "      <th>AFDP</th>\n",
              "      <th>GTEP</th>\n",
              "      <th>TIT</th>\n",
              "      <th>TAT</th>\n",
              "      <th>TEY</th>\n",
              "      <th>CDP</th>\n",
              "      <th>CO</th>\n",
              "      <th>NOX</th>\n",
              "    </tr>\n",
              "  </thead>\n",
              "  <tbody>\n",
              "    <tr>\n",
              "      <th>0</th>\n",
              "      <td>6.8594</td>\n",
              "      <td>1007.9</td>\n",
              "      <td>96.799</td>\n",
              "      <td>3.5000</td>\n",
              "      <td>19.663</td>\n",
              "      <td>1059.2</td>\n",
              "      <td>550.00</td>\n",
              "      <td>114.70</td>\n",
              "      <td>10.605</td>\n",
              "      <td>3.1547</td>\n",
              "      <td>82.722</td>\n",
              "    </tr>\n",
              "    <tr>\n",
              "      <th>1</th>\n",
              "      <td>6.7850</td>\n",
              "      <td>1008.4</td>\n",
              "      <td>97.118</td>\n",
              "      <td>3.4998</td>\n",
              "      <td>19.728</td>\n",
              "      <td>1059.3</td>\n",
              "      <td>550.00</td>\n",
              "      <td>114.72</td>\n",
              "      <td>10.598</td>\n",
              "      <td>3.2363</td>\n",
              "      <td>82.776</td>\n",
              "    </tr>\n",
              "    <tr>\n",
              "      <th>2</th>\n",
              "      <td>6.8977</td>\n",
              "      <td>1008.8</td>\n",
              "      <td>95.939</td>\n",
              "      <td>3.4824</td>\n",
              "      <td>19.779</td>\n",
              "      <td>1059.4</td>\n",
              "      <td>549.87</td>\n",
              "      <td>114.71</td>\n",
              "      <td>10.601</td>\n",
              "      <td>3.2012</td>\n",
              "      <td>82.468</td>\n",
              "    </tr>\n",
              "    <tr>\n",
              "      <th>3</th>\n",
              "      <td>7.0569</td>\n",
              "      <td>1009.2</td>\n",
              "      <td>95.249</td>\n",
              "      <td>3.4805</td>\n",
              "      <td>19.792</td>\n",
              "      <td>1059.6</td>\n",
              "      <td>549.99</td>\n",
              "      <td>114.72</td>\n",
              "      <td>10.606</td>\n",
              "      <td>3.1923</td>\n",
              "      <td>82.670</td>\n",
              "    </tr>\n",
              "    <tr>\n",
              "      <th>4</th>\n",
              "      <td>7.3978</td>\n",
              "      <td>1009.7</td>\n",
              "      <td>95.150</td>\n",
              "      <td>3.4976</td>\n",
              "      <td>19.765</td>\n",
              "      <td>1059.7</td>\n",
              "      <td>549.98</td>\n",
              "      <td>114.72</td>\n",
              "      <td>10.612</td>\n",
              "      <td>3.2484</td>\n",
              "      <td>82.311</td>\n",
              "    </tr>\n",
              "    <tr>\n",
              "      <th>...</th>\n",
              "      <td>...</td>\n",
              "      <td>...</td>\n",
              "      <td>...</td>\n",
              "      <td>...</td>\n",
              "      <td>...</td>\n",
              "      <td>...</td>\n",
              "      <td>...</td>\n",
              "      <td>...</td>\n",
              "      <td>...</td>\n",
              "      <td>...</td>\n",
              "      <td>...</td>\n",
              "    </tr>\n",
              "    <tr>\n",
              "      <th>15034</th>\n",
              "      <td>9.0301</td>\n",
              "      <td>1005.6</td>\n",
              "      <td>98.460</td>\n",
              "      <td>3.5421</td>\n",
              "      <td>19.164</td>\n",
              "      <td>1049.7</td>\n",
              "      <td>546.21</td>\n",
              "      <td>111.61</td>\n",
              "      <td>10.400</td>\n",
              "      <td>4.5186</td>\n",
              "      <td>79.559</td>\n",
              "    </tr>\n",
              "    <tr>\n",
              "      <th>15035</th>\n",
              "      <td>7.8879</td>\n",
              "      <td>1005.9</td>\n",
              "      <td>99.093</td>\n",
              "      <td>3.5059</td>\n",
              "      <td>19.414</td>\n",
              "      <td>1046.3</td>\n",
              "      <td>543.22</td>\n",
              "      <td>111.78</td>\n",
              "      <td>10.433</td>\n",
              "      <td>4.8470</td>\n",
              "      <td>79.917</td>\n",
              "    </tr>\n",
              "    <tr>\n",
              "      <th>15036</th>\n",
              "      <td>7.2647</td>\n",
              "      <td>1006.3</td>\n",
              "      <td>99.496</td>\n",
              "      <td>3.4770</td>\n",
              "      <td>19.530</td>\n",
              "      <td>1037.7</td>\n",
              "      <td>537.32</td>\n",
              "      <td>110.19</td>\n",
              "      <td>10.483</td>\n",
              "      <td>7.9632</td>\n",
              "      <td>90.912</td>\n",
              "    </tr>\n",
              "    <tr>\n",
              "      <th>15037</th>\n",
              "      <td>7.0060</td>\n",
              "      <td>1006.8</td>\n",
              "      <td>99.008</td>\n",
              "      <td>3.4486</td>\n",
              "      <td>19.377</td>\n",
              "      <td>1043.2</td>\n",
              "      <td>541.24</td>\n",
              "      <td>110.74</td>\n",
              "      <td>10.533</td>\n",
              "      <td>6.2494</td>\n",
              "      <td>93.227</td>\n",
              "    </tr>\n",
              "    <tr>\n",
              "      <th>15038</th>\n",
              "      <td>6.9279</td>\n",
              "      <td>1007.2</td>\n",
              "      <td>97.533</td>\n",
              "      <td>3.4275</td>\n",
              "      <td>19.306</td>\n",
              "      <td>1049.9</td>\n",
              "      <td>545.85</td>\n",
              "      <td>111.58</td>\n",
              "      <td>10.583</td>\n",
              "      <td>4.9816</td>\n",
              "      <td>92.498</td>\n",
              "    </tr>\n",
              "  </tbody>\n",
              "</table>\n",
              "<p>15039 rows × 11 columns</p>\n",
              "</div>\n",
              "      <button class=\"colab-df-convert\" onclick=\"convertToInteractive('df-3033980c-6dfd-419b-a5b8-335fe78d573f')\"\n",
              "              title=\"Convert this dataframe to an interactive table.\"\n",
              "              style=\"display:none;\">\n",
              "\n",
              "  <svg xmlns=\"http://www.w3.org/2000/svg\" height=\"24px\"viewBox=\"0 0 24 24\"\n",
              "       width=\"24px\">\n",
              "    <path d=\"M0 0h24v24H0V0z\" fill=\"none\"/>\n",
              "    <path d=\"M18.56 5.44l.94 2.06.94-2.06 2.06-.94-2.06-.94-.94-2.06-.94 2.06-2.06.94zm-11 1L8.5 8.5l.94-2.06 2.06-.94-2.06-.94L8.5 2.5l-.94 2.06-2.06.94zm10 10l.94 2.06.94-2.06 2.06-.94-2.06-.94-.94-2.06-.94 2.06-2.06.94z\"/><path d=\"M17.41 7.96l-1.37-1.37c-.4-.4-.92-.59-1.43-.59-.52 0-1.04.2-1.43.59L10.3 9.45l-7.72 7.72c-.78.78-.78 2.05 0 2.83L4 21.41c.39.39.9.59 1.41.59.51 0 1.02-.2 1.41-.59l7.78-7.78 2.81-2.81c.8-.78.8-2.07 0-2.86zM5.41 20L4 18.59l7.72-7.72 1.47 1.35L5.41 20z\"/>\n",
              "  </svg>\n",
              "      </button>\n",
              "\n",
              "\n",
              "\n",
              "    <div id=\"df-3651aeb1-2174-48dd-b90d-c65fb1cccc0b\">\n",
              "      <button class=\"colab-df-quickchart\" onclick=\"quickchart('df-3651aeb1-2174-48dd-b90d-c65fb1cccc0b')\"\n",
              "              title=\"Suggest charts.\"\n",
              "              style=\"display:none;\">\n",
              "\n",
              "<svg xmlns=\"http://www.w3.org/2000/svg\" height=\"24px\"viewBox=\"0 0 24 24\"\n",
              "     width=\"24px\">\n",
              "    <g>\n",
              "        <path d=\"M19 3H5c-1.1 0-2 .9-2 2v14c0 1.1.9 2 2 2h14c1.1 0 2-.9 2-2V5c0-1.1-.9-2-2-2zM9 17H7v-7h2v7zm4 0h-2V7h2v10zm4 0h-2v-4h2v4z\"/>\n",
              "    </g>\n",
              "</svg>\n",
              "      </button>\n",
              "    </div>\n",
              "\n",
              "<style>\n",
              "  .colab-df-quickchart {\n",
              "    background-color: #E8F0FE;\n",
              "    border: none;\n",
              "    border-radius: 50%;\n",
              "    cursor: pointer;\n",
              "    display: none;\n",
              "    fill: #1967D2;\n",
              "    height: 32px;\n",
              "    padding: 0 0 0 0;\n",
              "    width: 32px;\n",
              "  }\n",
              "\n",
              "  .colab-df-quickchart:hover {\n",
              "    background-color: #E2EBFA;\n",
              "    box-shadow: 0px 1px 2px rgba(60, 64, 67, 0.3), 0px 1px 3px 1px rgba(60, 64, 67, 0.15);\n",
              "    fill: #174EA6;\n",
              "  }\n",
              "\n",
              "  [theme=dark] .colab-df-quickchart {\n",
              "    background-color: #3B4455;\n",
              "    fill: #D2E3FC;\n",
              "  }\n",
              "\n",
              "  [theme=dark] .colab-df-quickchart:hover {\n",
              "    background-color: #434B5C;\n",
              "    box-shadow: 0px 1px 3px 1px rgba(0, 0, 0, 0.15);\n",
              "    filter: drop-shadow(0px 1px 2px rgba(0, 0, 0, 0.3));\n",
              "    fill: #FFFFFF;\n",
              "  }\n",
              "</style>\n",
              "\n",
              "    <script>\n",
              "      async function quickchart(key) {\n",
              "        const containerElement = document.querySelector('#' + key);\n",
              "        const charts = await google.colab.kernel.invokeFunction(\n",
              "            'suggestCharts', [key], {});\n",
              "      }\n",
              "    </script>\n",
              "\n",
              "      <script>\n",
              "\n",
              "function displayQuickchartButton(domScope) {\n",
              "  let quickchartButtonEl =\n",
              "    domScope.querySelector('#df-3651aeb1-2174-48dd-b90d-c65fb1cccc0b button.colab-df-quickchart');\n",
              "  quickchartButtonEl.style.display =\n",
              "    google.colab.kernel.accessAllowed ? 'block' : 'none';\n",
              "}\n",
              "\n",
              "        displayQuickchartButton(document);\n",
              "      </script>\n",
              "      <style>\n",
              "    .colab-df-container {\n",
              "      display:flex;\n",
              "      flex-wrap:wrap;\n",
              "      gap: 12px;\n",
              "    }\n",
              "\n",
              "    .colab-df-convert {\n",
              "      background-color: #E8F0FE;\n",
              "      border: none;\n",
              "      border-radius: 50%;\n",
              "      cursor: pointer;\n",
              "      display: none;\n",
              "      fill: #1967D2;\n",
              "      height: 32px;\n",
              "      padding: 0 0 0 0;\n",
              "      width: 32px;\n",
              "    }\n",
              "\n",
              "    .colab-df-convert:hover {\n",
              "      background-color: #E2EBFA;\n",
              "      box-shadow: 0px 1px 2px rgba(60, 64, 67, 0.3), 0px 1px 3px 1px rgba(60, 64, 67, 0.15);\n",
              "      fill: #174EA6;\n",
              "    }\n",
              "\n",
              "    [theme=dark] .colab-df-convert {\n",
              "      background-color: #3B4455;\n",
              "      fill: #D2E3FC;\n",
              "    }\n",
              "\n",
              "    [theme=dark] .colab-df-convert:hover {\n",
              "      background-color: #434B5C;\n",
              "      box-shadow: 0px 1px 3px 1px rgba(0, 0, 0, 0.15);\n",
              "      filter: drop-shadow(0px 1px 2px rgba(0, 0, 0, 0.3));\n",
              "      fill: #FFFFFF;\n",
              "    }\n",
              "  </style>\n",
              "\n",
              "      <script>\n",
              "        const buttonEl =\n",
              "          document.querySelector('#df-3033980c-6dfd-419b-a5b8-335fe78d573f button.colab-df-convert');\n",
              "        buttonEl.style.display =\n",
              "          google.colab.kernel.accessAllowed ? 'block' : 'none';\n",
              "\n",
              "        async function convertToInteractive(key) {\n",
              "          const element = document.querySelector('#df-3033980c-6dfd-419b-a5b8-335fe78d573f');\n",
              "          const dataTable =\n",
              "            await google.colab.kernel.invokeFunction('convertToInteractive',\n",
              "                                                     [key], {});\n",
              "          if (!dataTable) return;\n",
              "\n",
              "          const docLinkHtml = 'Like what you see? Visit the ' +\n",
              "            '<a target=\"_blank\" href=https://colab.research.google.com/notebooks/data_table.ipynb>data table notebook</a>'\n",
              "            + ' to learn more about interactive tables.';\n",
              "          element.innerHTML = '';\n",
              "          dataTable['output_type'] = 'display_data';\n",
              "          await google.colab.output.renderOutput(dataTable, element);\n",
              "          const docLink = document.createElement('div');\n",
              "          docLink.innerHTML = docLinkHtml;\n",
              "          element.appendChild(docLink);\n",
              "        }\n",
              "      </script>\n",
              "    </div>\n",
              "  </div>\n"
            ]
          },
          "metadata": {},
          "execution_count": 2
        }
      ],
      "source": [
        "turbine = pd.read_csv(\"/content/gas_turbines.csv\")\n",
        "turbine"
      ]
    },
    {
      "cell_type": "code",
      "execution_count": 3,
      "metadata": {
        "colab": {
          "base_uri": "https://localhost:8080/"
        },
        "id": "8DRsAOfIgFM6",
        "outputId": "b79327b5-d9b5-464a-cf66-ce26da01e9f6"
      },
      "outputs": [
        {
          "output_type": "execute_result",
          "data": {
            "text/plain": [
              "(15039, 11)"
            ]
          },
          "metadata": {},
          "execution_count": 3
        }
      ],
      "source": [
        "turbine1 = turbine.drop_duplicates()\n",
        "turbine1.shape"
      ]
    },
    {
      "cell_type": "code",
      "execution_count": 4,
      "metadata": {
        "colab": {
          "base_uri": "https://localhost:8080/"
        },
        "id": "NJ0v05BxgRky",
        "outputId": "41b922e6-7fda-4916-d106-fc44affc6bcb"
      },
      "outputs": [
        {
          "output_type": "execute_result",
          "data": {
            "text/plain": [
              "AT      0\n",
              "AP      0\n",
              "AH      0\n",
              "AFDP    0\n",
              "GTEP    0\n",
              "TIT     0\n",
              "TAT     0\n",
              "TEY     0\n",
              "CDP     0\n",
              "CO      0\n",
              "NOX     0\n",
              "dtype: int64"
            ]
          },
          "metadata": {},
          "execution_count": 4
        }
      ],
      "source": [
        "turbine1.isna().sum()"
      ]
    },
    {
      "cell_type": "code",
      "execution_count": 5,
      "metadata": {
        "colab": {
          "base_uri": "https://localhost:8080/"
        },
        "id": "F6gHTLgjgWEp",
        "outputId": "bf2588c7-4933-4ee4-c84d-1d9394c88df0"
      },
      "outputs": [
        {
          "output_type": "stream",
          "name": "stdout",
          "text": [
            "<class 'pandas.core.frame.DataFrame'>\n",
            "Int64Index: 15039 entries, 0 to 15038\n",
            "Data columns (total 11 columns):\n",
            " #   Column  Non-Null Count  Dtype  \n",
            "---  ------  --------------  -----  \n",
            " 0   AT      15039 non-null  float64\n",
            " 1   AP      15039 non-null  float64\n",
            " 2   AH      15039 non-null  float64\n",
            " 3   AFDP    15039 non-null  float64\n",
            " 4   GTEP    15039 non-null  float64\n",
            " 5   TIT     15039 non-null  float64\n",
            " 6   TAT     15039 non-null  float64\n",
            " 7   TEY     15039 non-null  float64\n",
            " 8   CDP     15039 non-null  float64\n",
            " 9   CO      15039 non-null  float64\n",
            " 10  NOX     15039 non-null  float64\n",
            "dtypes: float64(11)\n",
            "memory usage: 1.4 MB\n"
          ]
        }
      ],
      "source": [
        "turbine1.info()"
      ]
    },
    {
      "cell_type": "code",
      "execution_count": 6,
      "metadata": {
        "colab": {
          "base_uri": "https://localhost:8080/",
          "height": 364
        },
        "id": "n0iL57ZlgYU4",
        "outputId": "90b4630f-561e-461d-ddeb-65475f32c7fa"
      },
      "outputs": [
        {
          "output_type": "execute_result",
          "data": {
            "text/plain": [
              "                 AT           AP            AH          AFDP          GTEP  \\\n",
              "count  15039.000000  15039.00000  15039.000000  15039.000000  15039.000000   \n",
              "mean      17.764381   1013.19924     79.124174      4.200294     25.419061   \n",
              "std        7.574323      6.41076     13.793439      0.760197      4.173916   \n",
              "min        0.522300    985.85000     30.344000      2.087400     17.878000   \n",
              "25%       11.408000   1008.90000     69.750000      3.723900     23.294000   \n",
              "50%       18.186000   1012.80000     82.266000      4.186200     25.082000   \n",
              "75%       23.862500   1016.90000     90.043500      4.550900     27.184000   \n",
              "max       34.929000   1034.20000    100.200000      7.610600     37.402000   \n",
              "\n",
              "                TIT           TAT           TEY           CDP            CO  \\\n",
              "count  15039.000000  15039.000000  15039.000000  15039.000000  15039.000000   \n",
              "mean    1083.798770    545.396183    134.188464     12.102353      1.972499   \n",
              "std       16.527806      7.866803     15.829717      1.103196      2.222206   \n",
              "min     1000.800000    512.450000    100.170000      9.904400      0.000388   \n",
              "25%     1079.600000    542.170000    127.985000     11.622000      0.858055   \n",
              "50%     1088.700000    549.890000    133.780000     12.025000      1.390200   \n",
              "75%     1096.000000    550.060000    140.895000     12.578000      2.160400   \n",
              "max     1100.800000    550.610000    174.610000     15.081000     44.103000   \n",
              "\n",
              "                NOX  \n",
              "count  15039.000000  \n",
              "mean      68.190934  \n",
              "std       10.470586  \n",
              "min       27.765000  \n",
              "25%       61.303500  \n",
              "50%       66.601000  \n",
              "75%       73.935500  \n",
              "max      119.890000  "
            ],
            "text/html": [
              "\n",
              "\n",
              "  <div id=\"df-172c7621-bd5e-4f2e-8813-a9bad9497289\">\n",
              "    <div class=\"colab-df-container\">\n",
              "      <div>\n",
              "<style scoped>\n",
              "    .dataframe tbody tr th:only-of-type {\n",
              "        vertical-align: middle;\n",
              "    }\n",
              "\n",
              "    .dataframe tbody tr th {\n",
              "        vertical-align: top;\n",
              "    }\n",
              "\n",
              "    .dataframe thead th {\n",
              "        text-align: right;\n",
              "    }\n",
              "</style>\n",
              "<table border=\"1\" class=\"dataframe\">\n",
              "  <thead>\n",
              "    <tr style=\"text-align: right;\">\n",
              "      <th></th>\n",
              "      <th>AT</th>\n",
              "      <th>AP</th>\n",
              "      <th>AH</th>\n",
              "      <th>AFDP</th>\n",
              "      <th>GTEP</th>\n",
              "      <th>TIT</th>\n",
              "      <th>TAT</th>\n",
              "      <th>TEY</th>\n",
              "      <th>CDP</th>\n",
              "      <th>CO</th>\n",
              "      <th>NOX</th>\n",
              "    </tr>\n",
              "  </thead>\n",
              "  <tbody>\n",
              "    <tr>\n",
              "      <th>count</th>\n",
              "      <td>15039.000000</td>\n",
              "      <td>15039.00000</td>\n",
              "      <td>15039.000000</td>\n",
              "      <td>15039.000000</td>\n",
              "      <td>15039.000000</td>\n",
              "      <td>15039.000000</td>\n",
              "      <td>15039.000000</td>\n",
              "      <td>15039.000000</td>\n",
              "      <td>15039.000000</td>\n",
              "      <td>15039.000000</td>\n",
              "      <td>15039.000000</td>\n",
              "    </tr>\n",
              "    <tr>\n",
              "      <th>mean</th>\n",
              "      <td>17.764381</td>\n",
              "      <td>1013.19924</td>\n",
              "      <td>79.124174</td>\n",
              "      <td>4.200294</td>\n",
              "      <td>25.419061</td>\n",
              "      <td>1083.798770</td>\n",
              "      <td>545.396183</td>\n",
              "      <td>134.188464</td>\n",
              "      <td>12.102353</td>\n",
              "      <td>1.972499</td>\n",
              "      <td>68.190934</td>\n",
              "    </tr>\n",
              "    <tr>\n",
              "      <th>std</th>\n",
              "      <td>7.574323</td>\n",
              "      <td>6.41076</td>\n",
              "      <td>13.793439</td>\n",
              "      <td>0.760197</td>\n",
              "      <td>4.173916</td>\n",
              "      <td>16.527806</td>\n",
              "      <td>7.866803</td>\n",
              "      <td>15.829717</td>\n",
              "      <td>1.103196</td>\n",
              "      <td>2.222206</td>\n",
              "      <td>10.470586</td>\n",
              "    </tr>\n",
              "    <tr>\n",
              "      <th>min</th>\n",
              "      <td>0.522300</td>\n",
              "      <td>985.85000</td>\n",
              "      <td>30.344000</td>\n",
              "      <td>2.087400</td>\n",
              "      <td>17.878000</td>\n",
              "      <td>1000.800000</td>\n",
              "      <td>512.450000</td>\n",
              "      <td>100.170000</td>\n",
              "      <td>9.904400</td>\n",
              "      <td>0.000388</td>\n",
              "      <td>27.765000</td>\n",
              "    </tr>\n",
              "    <tr>\n",
              "      <th>25%</th>\n",
              "      <td>11.408000</td>\n",
              "      <td>1008.90000</td>\n",
              "      <td>69.750000</td>\n",
              "      <td>3.723900</td>\n",
              "      <td>23.294000</td>\n",
              "      <td>1079.600000</td>\n",
              "      <td>542.170000</td>\n",
              "      <td>127.985000</td>\n",
              "      <td>11.622000</td>\n",
              "      <td>0.858055</td>\n",
              "      <td>61.303500</td>\n",
              "    </tr>\n",
              "    <tr>\n",
              "      <th>50%</th>\n",
              "      <td>18.186000</td>\n",
              "      <td>1012.80000</td>\n",
              "      <td>82.266000</td>\n",
              "      <td>4.186200</td>\n",
              "      <td>25.082000</td>\n",
              "      <td>1088.700000</td>\n",
              "      <td>549.890000</td>\n",
              "      <td>133.780000</td>\n",
              "      <td>12.025000</td>\n",
              "      <td>1.390200</td>\n",
              "      <td>66.601000</td>\n",
              "    </tr>\n",
              "    <tr>\n",
              "      <th>75%</th>\n",
              "      <td>23.862500</td>\n",
              "      <td>1016.90000</td>\n",
              "      <td>90.043500</td>\n",
              "      <td>4.550900</td>\n",
              "      <td>27.184000</td>\n",
              "      <td>1096.000000</td>\n",
              "      <td>550.060000</td>\n",
              "      <td>140.895000</td>\n",
              "      <td>12.578000</td>\n",
              "      <td>2.160400</td>\n",
              "      <td>73.935500</td>\n",
              "    </tr>\n",
              "    <tr>\n",
              "      <th>max</th>\n",
              "      <td>34.929000</td>\n",
              "      <td>1034.20000</td>\n",
              "      <td>100.200000</td>\n",
              "      <td>7.610600</td>\n",
              "      <td>37.402000</td>\n",
              "      <td>1100.800000</td>\n",
              "      <td>550.610000</td>\n",
              "      <td>174.610000</td>\n",
              "      <td>15.081000</td>\n",
              "      <td>44.103000</td>\n",
              "      <td>119.890000</td>\n",
              "    </tr>\n",
              "  </tbody>\n",
              "</table>\n",
              "</div>\n",
              "      <button class=\"colab-df-convert\" onclick=\"convertToInteractive('df-172c7621-bd5e-4f2e-8813-a9bad9497289')\"\n",
              "              title=\"Convert this dataframe to an interactive table.\"\n",
              "              style=\"display:none;\">\n",
              "\n",
              "  <svg xmlns=\"http://www.w3.org/2000/svg\" height=\"24px\"viewBox=\"0 0 24 24\"\n",
              "       width=\"24px\">\n",
              "    <path d=\"M0 0h24v24H0V0z\" fill=\"none\"/>\n",
              "    <path d=\"M18.56 5.44l.94 2.06.94-2.06 2.06-.94-2.06-.94-.94-2.06-.94 2.06-2.06.94zm-11 1L8.5 8.5l.94-2.06 2.06-.94-2.06-.94L8.5 2.5l-.94 2.06-2.06.94zm10 10l.94 2.06.94-2.06 2.06-.94-2.06-.94-.94-2.06-.94 2.06-2.06.94z\"/><path d=\"M17.41 7.96l-1.37-1.37c-.4-.4-.92-.59-1.43-.59-.52 0-1.04.2-1.43.59L10.3 9.45l-7.72 7.72c-.78.78-.78 2.05 0 2.83L4 21.41c.39.39.9.59 1.41.59.51 0 1.02-.2 1.41-.59l7.78-7.78 2.81-2.81c.8-.78.8-2.07 0-2.86zM5.41 20L4 18.59l7.72-7.72 1.47 1.35L5.41 20z\"/>\n",
              "  </svg>\n",
              "      </button>\n",
              "\n",
              "\n",
              "\n",
              "    <div id=\"df-cedfb9c5-058d-4c96-9662-2f02bfb1891c\">\n",
              "      <button class=\"colab-df-quickchart\" onclick=\"quickchart('df-cedfb9c5-058d-4c96-9662-2f02bfb1891c')\"\n",
              "              title=\"Suggest charts.\"\n",
              "              style=\"display:none;\">\n",
              "\n",
              "<svg xmlns=\"http://www.w3.org/2000/svg\" height=\"24px\"viewBox=\"0 0 24 24\"\n",
              "     width=\"24px\">\n",
              "    <g>\n",
              "        <path d=\"M19 3H5c-1.1 0-2 .9-2 2v14c0 1.1.9 2 2 2h14c1.1 0 2-.9 2-2V5c0-1.1-.9-2-2-2zM9 17H7v-7h2v7zm4 0h-2V7h2v10zm4 0h-2v-4h2v4z\"/>\n",
              "    </g>\n",
              "</svg>\n",
              "      </button>\n",
              "    </div>\n",
              "\n",
              "<style>\n",
              "  .colab-df-quickchart {\n",
              "    background-color: #E8F0FE;\n",
              "    border: none;\n",
              "    border-radius: 50%;\n",
              "    cursor: pointer;\n",
              "    display: none;\n",
              "    fill: #1967D2;\n",
              "    height: 32px;\n",
              "    padding: 0 0 0 0;\n",
              "    width: 32px;\n",
              "  }\n",
              "\n",
              "  .colab-df-quickchart:hover {\n",
              "    background-color: #E2EBFA;\n",
              "    box-shadow: 0px 1px 2px rgba(60, 64, 67, 0.3), 0px 1px 3px 1px rgba(60, 64, 67, 0.15);\n",
              "    fill: #174EA6;\n",
              "  }\n",
              "\n",
              "  [theme=dark] .colab-df-quickchart {\n",
              "    background-color: #3B4455;\n",
              "    fill: #D2E3FC;\n",
              "  }\n",
              "\n",
              "  [theme=dark] .colab-df-quickchart:hover {\n",
              "    background-color: #434B5C;\n",
              "    box-shadow: 0px 1px 3px 1px rgba(0, 0, 0, 0.15);\n",
              "    filter: drop-shadow(0px 1px 2px rgba(0, 0, 0, 0.3));\n",
              "    fill: #FFFFFF;\n",
              "  }\n",
              "</style>\n",
              "\n",
              "    <script>\n",
              "      async function quickchart(key) {\n",
              "        const containerElement = document.querySelector('#' + key);\n",
              "        const charts = await google.colab.kernel.invokeFunction(\n",
              "            'suggestCharts', [key], {});\n",
              "      }\n",
              "    </script>\n",
              "\n",
              "      <script>\n",
              "\n",
              "function displayQuickchartButton(domScope) {\n",
              "  let quickchartButtonEl =\n",
              "    domScope.querySelector('#df-cedfb9c5-058d-4c96-9662-2f02bfb1891c button.colab-df-quickchart');\n",
              "  quickchartButtonEl.style.display =\n",
              "    google.colab.kernel.accessAllowed ? 'block' : 'none';\n",
              "}\n",
              "\n",
              "        displayQuickchartButton(document);\n",
              "      </script>\n",
              "      <style>\n",
              "    .colab-df-container {\n",
              "      display:flex;\n",
              "      flex-wrap:wrap;\n",
              "      gap: 12px;\n",
              "    }\n",
              "\n",
              "    .colab-df-convert {\n",
              "      background-color: #E8F0FE;\n",
              "      border: none;\n",
              "      border-radius: 50%;\n",
              "      cursor: pointer;\n",
              "      display: none;\n",
              "      fill: #1967D2;\n",
              "      height: 32px;\n",
              "      padding: 0 0 0 0;\n",
              "      width: 32px;\n",
              "    }\n",
              "\n",
              "    .colab-df-convert:hover {\n",
              "      background-color: #E2EBFA;\n",
              "      box-shadow: 0px 1px 2px rgba(60, 64, 67, 0.3), 0px 1px 3px 1px rgba(60, 64, 67, 0.15);\n",
              "      fill: #174EA6;\n",
              "    }\n",
              "\n",
              "    [theme=dark] .colab-df-convert {\n",
              "      background-color: #3B4455;\n",
              "      fill: #D2E3FC;\n",
              "    }\n",
              "\n",
              "    [theme=dark] .colab-df-convert:hover {\n",
              "      background-color: #434B5C;\n",
              "      box-shadow: 0px 1px 3px 1px rgba(0, 0, 0, 0.15);\n",
              "      filter: drop-shadow(0px 1px 2px rgba(0, 0, 0, 0.3));\n",
              "      fill: #FFFFFF;\n",
              "    }\n",
              "  </style>\n",
              "\n",
              "      <script>\n",
              "        const buttonEl =\n",
              "          document.querySelector('#df-172c7621-bd5e-4f2e-8813-a9bad9497289 button.colab-df-convert');\n",
              "        buttonEl.style.display =\n",
              "          google.colab.kernel.accessAllowed ? 'block' : 'none';\n",
              "\n",
              "        async function convertToInteractive(key) {\n",
              "          const element = document.querySelector('#df-172c7621-bd5e-4f2e-8813-a9bad9497289');\n",
              "          const dataTable =\n",
              "            await google.colab.kernel.invokeFunction('convertToInteractive',\n",
              "                                                     [key], {});\n",
              "          if (!dataTable) return;\n",
              "\n",
              "          const docLinkHtml = 'Like what you see? Visit the ' +\n",
              "            '<a target=\"_blank\" href=https://colab.research.google.com/notebooks/data_table.ipynb>data table notebook</a>'\n",
              "            + ' to learn more about interactive tables.';\n",
              "          element.innerHTML = '';\n",
              "          dataTable['output_type'] = 'display_data';\n",
              "          await google.colab.output.renderOutput(dataTable, element);\n",
              "          const docLink = document.createElement('div');\n",
              "          docLink.innerHTML = docLinkHtml;\n",
              "          element.appendChild(docLink);\n",
              "        }\n",
              "      </script>\n",
              "    </div>\n",
              "  </div>\n"
            ]
          },
          "metadata": {},
          "execution_count": 6
        }
      ],
      "source": [
        "turbine1.describe()"
      ]
    },
    {
      "cell_type": "markdown",
      "metadata": {
        "id": "L-h4jk1YgeVu"
      },
      "source": [
        "##Data Visualization"
      ]
    },
    {
      "cell_type": "code",
      "execution_count": null,
      "metadata": {
        "colab": {
          "background_save": true
        },
        "id": "JSteFzfGgcVH"
      },
      "outputs": [],
      "source": [
        "sns.pairplot(turbine1)"
      ]
    },
    {
      "cell_type": "code",
      "execution_count": null,
      "metadata": {
        "id": "AtCVpw_vgjpR"
      },
      "outputs": [],
      "source": [
        "plt.figure(figsize = (14, 6));\n",
        "sns.heatmap(turbine1.corr(), cmap = 'magma', annot = True, fmt = \".3f\")\n",
        "plt.show()"
      ]
    },
    {
      "cell_type": "code",
      "source": [
        "f, axes = plt.subplots(2, 2, figsize = (12, 8))\n",
        "\n",
        "sns.violinplot(x = 'AT', y = 'TEY', data = turbine1, scatter_kws = {'alpha':0.6}, ax = axes[0, 0])\n",
        "sns.violinplot(x = 'AP', y = 'TEY', data = turbine1, scatter_kws = {'alpha':0.6}, ax = axes[0, 1])\n",
        "sns.violinplot(x = 'AH', y = 'TEY', data = turbine1, scatter_kws = {'alpha':0.6}, ax = axes[1, 0])\n",
        "sns.violinplot(x = 'AFDP', y = 'TEY', data = turbine1, scatter_kws = {'alpha':0.6}, ax = axes[1, 1])"
      ],
      "metadata": {
        "id": "TZBZJifmhQUS"
      },
      "execution_count": null,
      "outputs": []
    },
    {
      "cell_type": "code",
      "source": [
        "f, axes = plt.subplots(2, 2, figsize = (12, 8))\n",
        "sns.violinplot(x = 'GTEP', y = 'TEY', data = turbine1, scatter_kws={'alpha':0.6}, ax = axes[0,0])\n",
        "sns.violinplot(x = 'TIT', y = 'TEY', data = turbine1, scatter_kws={'alpha':0.6}, ax = axes[0,1])\n",
        "sns.violinplot(x = 'TAT', y = 'TEY', data = turbine1, scatter_kws={'alpha':0.6}, ax = axes[1,0])\n",
        "sns.violinplot(x = 'CDP', y = 'TEY', data = turbine1, scatter_kws={'alpha':0.6}, ax = axes[1,1])"
      ],
      "metadata": {
        "id": "LUaftG5KiAU-"
      },
      "execution_count": null,
      "outputs": []
    },
    {
      "cell_type": "markdown",
      "source": [
        "##Machine Learning Algorithm - Neural Network"
      ],
      "metadata": {
        "id": "qgOTozCeyeeo"
      }
    },
    {
      "cell_type": "code",
      "source": [
        "np.random.seed(8)\n",
        "\n",
        "X = turbine.drop(['TEY'], axis = 1)\n",
        "Y = turbine['TEY']\n",
        "X"
      ],
      "metadata": {
        "id": "0nSCDa3Koizn"
      },
      "execution_count": null,
      "outputs": []
    },
    {
      "cell_type": "code",
      "source": [
        "Y"
      ],
      "metadata": {
        "id": "ZXvNjA0vyzCZ"
      },
      "execution_count": null,
      "outputs": []
    },
    {
      "cell_type": "markdown",
      "source": [
        "##Batch Size and Epochs"
      ],
      "metadata": {
        "id": "YyzwvqiJy68O"
      }
    },
    {
      "cell_type": "code",
      "source": [
        "model = Sequential()\n",
        "model.add(Dense(26, input_dim = 10, activation = 'relu'))\n",
        "model.add(Dense(26, activation = 'tanh'))\n",
        "model.add(Dense(26, activation = 'sigmoid'))\n",
        "model.add(Dense(26, activation = 'leaky_relu'))"
      ],
      "metadata": {
        "id": "Zn_sTHu_y2Iu"
      },
      "execution_count": null,
      "outputs": []
    },
    {
      "cell_type": "code",
      "source": [
        "model.compile(loss = 'mse', optimizer = 'Adam', metrics = ['mean_absolute_percentage_error'])"
      ],
      "metadata": {
        "id": "7m_pfDDV0Nuk"
      },
      "execution_count": null,
      "outputs": []
    },
    {
      "cell_type": "code",
      "source": [
        "history = model.fit(X, Y, validation_split = 0.33, epochs = 20, batch_size = 20)"
      ],
      "metadata": {
        "id": "7W-CeM2F0j4A"
      },
      "execution_count": null,
      "outputs": []
    },
    {
      "cell_type": "code",
      "source": [
        "scores = model.evaluate(X, Y)\n",
        "print(\"%s: %.2f%%\" % (model.metrics_names[1], scores[1]))"
      ],
      "metadata": {
        "id": "hNC8cW760xb2"
      },
      "execution_count": null,
      "outputs": []
    },
    {
      "cell_type": "code",
      "source": [
        "model.metrics_names"
      ],
      "metadata": {
        "id": "XCdhXxJN1hdO"
      },
      "execution_count": null,
      "outputs": []
    },
    {
      "cell_type": "code",
      "source": [
        "scores"
      ],
      "metadata": {
        "id": "4v6GEu8b1kue"
      },
      "execution_count": null,
      "outputs": []
    },
    {
      "cell_type": "code",
      "source": [
        "history.history.keys()"
      ],
      "metadata": {
        "id": "Qqemy98O1mBI"
      },
      "execution_count": null,
      "outputs": []
    },
    {
      "cell_type": "code",
      "source": [
        "plt.plot(history.history['mean_absolute_percentage_error'])\n",
        "plt.plot(history.history['val_mean_absolute_percentage_error'])\n",
        "plt.title('model_mean_absolute_percentage_error')\n",
        "plt.xlabel('epoch')\n",
        "plt.legend(['train', 'test'], loc = 'upper left')\n",
        "plt.show()"
      ],
      "metadata": {
        "id": "5T8lWpWn1t-b"
      },
      "execution_count": null,
      "outputs": []
    },
    {
      "cell_type": "markdown",
      "source": [
        "##Hyperparameters all at once\n",
        "The hyperparameter optimization was carried out by taking 2 hyperparameters at once. We may have missed the best values. The performance can be further improved by finding the optimum values of hyperparameters all at once given by the code snippet below."
      ],
      "metadata": {
        "id": "PeVTQQYo2jUp"
      }
    }
  ],
  "metadata": {
    "colab": {
      "provenance": [],
      "include_colab_link": true
    },
    "kernelspec": {
      "display_name": "Python 3",
      "name": "python3"
    },
    "language_info": {
      "name": "python"
    }
  },
  "nbformat": 4,
  "nbformat_minor": 0
}